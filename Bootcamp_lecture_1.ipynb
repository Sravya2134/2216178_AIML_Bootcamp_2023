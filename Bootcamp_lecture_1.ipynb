{
  "nbformat": 4,
  "nbformat_minor": 0,
  "metadata": {
    "colab": {
      "provenance": [],
      "authorship_tag": "ABX9TyOvujTnnjMF4TcPQBEA0Y6O",
      "include_colab_link": true
    },
    "kernelspec": {
      "name": "python3",
      "display_name": "Python 3"
    },
    "language_info": {
      "name": "python"
    }
  },
  "cells": [
    {
      "cell_type": "markdown",
      "metadata": {
        "id": "view-in-github",
        "colab_type": "text"
      },
      "source": [
        "<a href=\"https://colab.research.google.com/github/Sravya2134/2216178_AIML_Bootcamp_2023/blob/main/Bootcamp_lecture_1.ipynb\" target=\"_parent\"><img src=\"https://colab.research.google.com/assets/colab-badge.svg\" alt=\"Open In Colab\"/></a>"
      ]
    },
    {
      "cell_type": "code",
      "execution_count": null,
      "metadata": {
        "colab": {
          "base_uri": "https://localhost:8080/"
        },
        "id": "zB5w_0JjpRfa",
        "outputId": "f338b402-0cf2-42a8-b6c7-f77d34622c81"
      },
      "outputs": [
        {
          "output_type": "stream",
          "name": "stdout",
          "text": [
            "100 500.0 hi ramu\n",
            "20.0\n",
            "5.0\n"
          ]
        }
      ],
      "source": [
        "#variables\n",
        "a=100\n",
        "amount=500.00\n",
        "str1=\"hi\"\n",
        "str2=\"ramu\"\n",
        "'''this is docstring'''\n",
        "comp=20+5j\n",
        "print(a,amount,str1,str2)\n",
        "print(comp.real)\n",
        "print(comp.imag)"
      ]
    },
    {
      "cell_type": "code",
      "source": [
        "#data types\n",
        "#integer\n",
        "a=100\n",
        "b=1+2j\n",
        "#float\n",
        "amount=200.00\n",
        "#text type\n",
        "str1=\"hi\"\n",
        "#sequence\n",
        "li=[1,2,3,4,5]\n",
        "tup=(1,2,3,4,5)\n",
        "#set type\n",
        "set1={1,2,3,4,5}\n",
        "#mapping \n",
        "my_dict={\"apple\":\"red\"}\n",
        "#none type\n",
        "x=None\n"
      ],
      "metadata": {
        "id": "Aspyn-vqp8E3"
      },
      "execution_count": null,
      "outputs": []
    },
    {
      "cell_type": "code",
      "source": [
        "#type casting\n",
        "#explict\n",
        "b=2\n",
        "c=3.0\n",
        "d=int(c)\n",
        "e=float(b)\n",
        "print(d,e)\n",
        "#implict\n",
        "f=3\n",
        "g=4.0\n",
        "h=print(f+g)\n"
      ],
      "metadata": {
        "colab": {
          "base_uri": "https://localhost:8080/"
        },
        "id": "D3o5FCnOrZXz",
        "outputId": "3f8f2fb9-3479-435d-fa3e-da88a457262f"
      },
      "execution_count": null,
      "outputs": [
        {
          "output_type": "stream",
          "name": "stdout",
          "text": [
            "3 2.0\n",
            "7.0\n"
          ]
        }
      ]
    }
  ]
}