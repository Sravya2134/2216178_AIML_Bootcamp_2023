{
  "nbformat": 4,
  "nbformat_minor": 0,
  "metadata": {
    "colab": {
      "provenance": [],
      "authorship_tag": "ABX9TyMjZCDH65P8Dz+EQffK3A9n",
      "include_colab_link": true
    },
    "kernelspec": {
      "name": "python3",
      "display_name": "Python 3"
    },
    "language_info": {
      "name": "python"
    }
  },
  "cells": [
    {
      "cell_type": "markdown",
      "metadata": {
        "id": "view-in-github",
        "colab_type": "text"
      },
      "source": [
        "<a href=\"https://colab.research.google.com/github/Sravya2134/2216178_AIML_Bootcamp_2023/blob/main/Boot_Camp_Assignment_01.ipynb\" target=\"_parent\"><img src=\"https://colab.research.google.com/assets/colab-badge.svg\" alt=\"Open In Colab\"/></a>"
      ]
    },
    {
      "cell_type": "code",
      "source": [
        "# Methods of string fwith examples \n",
        "txt=\"welcome to python programming\"\n",
        "print(\"txt=\",txt)\n",
        "print(\"some part print=\",txt[3:9])\n",
        "print(\"welcome\"in txt)\n",
        "print(\"the length=\",len(txt))\n",
        "string=\"example of slice function in python language\"\n",
        "string1=\"welcome to python programming\"\n",
        "s1=slice(3)\n",
        "print(\"s1=\",string[s1])\n",
        "s2=slice(1,5)\n",
        "print(\"s2=\",string[s2])\n",
        "print(\"string variables in upper case=\",string.upper())\n",
        "print(\"string variables in upper case=\",string.lower())\n",
        "print(\"string1=\",string1.strip())\n",
        "print(\"replace function used in string1=\",string1.replace(\"programming\",\"language\"))"
      ],
      "metadata": {
        "colab": {
          "base_uri": "https://localhost:8080/"
        },
        "id": "U1BZYR8bYRNo",
        "outputId": "f6e9241b-d9aa-4525-ff24-588576a55851"
      },
      "execution_count": null,
      "outputs": [
        {
          "output_type": "stream",
          "name": "stdout",
          "text": [
            "txt= welcome to python programming\n",
            "some part print= come t\n",
            "True\n",
            "the length= 29\n",
            "s1= exa\n",
            "s2= xamp\n",
            "string variables in upper case= EXAMPLE OF SLICE FUNCTION IN PYTHON LANGUAGE\n",
            "string variables in upper case= example of slice function in python language\n",
            "string1= welcome to python programming\n",
            "replace function used in string1= welcome to python language\n"
          ]
        }
      ]
    },
    {
      "cell_type": "code",
      "source": [
        "# lists\n",
        "l1=[1,2,3,4,5]\n",
        "l2=[\"ramu\",\"ravi\"]\n",
        "print(\"the length of l1=\",len(l1))\n",
        "print(\"the length of l2=\",len(l2))\n",
        "l3=[8,9,10]\n",
        "print(\"the contanation=\",l1+l3)\n",
        "print(\"the repetition=\",l2*2)\n",
        "l4=['a','e','i','o','u']\n",
        "print(\"the checking of a in l4=\",'l'in l4)\n",
        "print(\"the checking of a in l4=\",'k'not in l4)\n",
        "l1.append(0)\n",
        "print(\"now l1=\",l1)\n",
        "print(\"all function for l1=\",all(l1))\n",
        "print(\"all function for l2=\",all(l2))\n",
        "l6=[34,56]\n",
        "print(\"any function=\",any(l6))\n",
        "print(\"max value=\",max(l6))\n",
        "print(\"min value=\",min(l6))\n",
        "print(\"sum value=\",sum(l6))"
      ],
      "metadata": {
        "id": "hz9I-2axZkYJ",
        "colab": {
          "base_uri": "https://localhost:8080/"
        },
        "outputId": "35ae36c3-b7d6-424c-8645-ac7c0cf44a57"
      },
      "execution_count": null,
      "outputs": [
        {
          "output_type": "stream",
          "name": "stdout",
          "text": [
            "the length of l1= 5\n",
            "the length of l2= 2\n",
            "the contanation= [1, 2, 3, 4, 5, 8, 9, 10]\n",
            "the repetition= ['ramu', 'ravi', 'ramu', 'ravi']\n",
            "the checking of a in l4= False\n",
            "the checking of a in l4= True\n",
            "now l1= [1, 2, 3, 4, 5, 0]\n",
            "all function for l1= False\n",
            "all function for l2= True\n",
            "any function= True\n",
            "max value= 56\n",
            "min value= 34\n",
            "sum value= 90\n"
          ]
        }
      ]
    },
    {
      "cell_type": "code",
      "source": [
        "#tupless\n",
        "t1=(1,2,3,4,5)\n",
        "t2=(6,7,8,9,10)\n",
        "print(\"the length of t1=\",len(t1))\n",
        "print(\"the length of t2=\",len(t2))\n",
        "t3=t1+t2\n",
        "print(\"the concant of t1 and t2=\",t3)\n",
        "print(\"the repitition=\",t2*2)\n",
        "print(\"checking element 8 in t2=\",8 in t2)\n",
        "print(\"all the operations in tuple=\",all(t1))\n",
        "print(\"min element=\",min(t1))\n",
        "print(\"max element=\",max(t1))"
      ],
      "metadata": {
        "colab": {
          "base_uri": "https://localhost:8080/"
        },
        "id": "IzOsg2Skhvfn",
        "outputId": "701a79cd-c584-49ce-89bb-d72df0dc4c96"
      },
      "execution_count": null,
      "outputs": [
        {
          "output_type": "stream",
          "name": "stdout",
          "text": [
            "the length of t1= 5\n",
            "the length of t2= 5\n",
            "the concant of t1 and t2= (1, 2, 3, 4, 5, 6, 7, 8, 9, 10)\n",
            "the repitition= (6, 7, 8, 9, 10, 6, 7, 8, 9, 10)\n",
            "checking element 8 in t2= True\n",
            "all the operations in tuple= True\n",
            "min element= 1\n",
            "max element= 5\n"
          ]
        }
      ]
    },
    {
      "cell_type": "code",
      "source": [
        "#dictionaries\n",
        "dict1=dict()\n",
        "print(\"the dict=\",dict1)\n",
        "dt2={'htno':123,'name':'raju','course':'cse'}\n",
        "print(\"the dict2=\",dt2)\n",
        "dt3 = {\"school\": \"rishi\", \"college\": \"SR\",\"year\": 2023}\n",
        "print(dt3[\"school\"])\n",
        "#add\n",
        "dt4 = {\"school\": \"rishi\", \"college\": \"SR\",\"year\": 2023}\n",
        "dt4.update({\"area\": \"warangal\"})\n",
        "print(dt4)                                                                                                                                                                 "
      ],
      "metadata": {
        "colab": {
          "base_uri": "https://localhost:8080/"
        },
        "id": "NG2-H0-ijHUc",
        "outputId": "1188906e-14af-48e8-8110-161e43e55adb"
      },
      "execution_count": null,
      "outputs": [
        {
          "output_type": "stream",
          "name": "stdout",
          "text": [
            "the dict= {}\n",
            "the dict2= {'htno': 123, 'name': 'raju', 'course': 'cse'}\n",
            "rishi\n",
            "{'school': 'rishi', 'college': 'SR', 'year': 2023, 'area': 'warangal'}\n"
          ]
        }
      ]
    },
    {
      "cell_type": "code",
      "source": [
        "#setss\n",
        "s1={1,2,3,4,5,6,7}\n",
        "s2={5,6,7,8,9,5,6,7}\n",
        "print(\"s1=\",s1)\n",
        "print(\"s2=\",s2)\n",
        "s1.update(s2)\n",
        "print(\"the set1(update)=\",s1)\n",
        "s2.add(11)\n",
        "print(\"the set 2=\",s2)\n",
        "s2.remove(11)\n",
        "print(\"the set 2=\",s2)\n",
        "s2.discard(8)\n",
        "print(\"the set 2=\",s2)\n",
        "len(s1)\n",
        "print(\"the length s1=\",s1)\n",
        "print(\"the intersection=\",s1.intersection(s2))\n",
        "print(\"the difference=\",s1.difference(s2))\n",
        "\n"
      ],
      "metadata": {
        "colab": {
          "base_uri": "https://localhost:8080/"
        },
        "id": "qaSlyrh8kRRF",
        "outputId": "2b89e671-a9cf-4cb9-dd2b-e46c2a97f89a"
      },
      "execution_count": null,
      "outputs": [
        {
          "output_type": "stream",
          "name": "stdout",
          "text": [
            "s1= {1, 2, 3, 4, 5, 6, 7}\n",
            "s2= {5, 6, 7, 8, 9}\n",
            "the set1(update)= {1, 2, 3, 4, 5, 6, 7, 8, 9}\n",
            "the set 2= {5, 6, 7, 8, 9, 11}\n",
            "the set 2= {5, 6, 7, 8, 9}\n",
            "the set 2= {5, 6, 7, 9}\n",
            "the length s1= {1, 2, 3, 4, 5, 6, 7, 8, 9}\n",
            "the intersection= {9, 5, 6, 7}\n",
            "the difference= {1, 2, 3, 4, 8}\n"
          ]
        }
      ]
    },
    {
      "cell_type": "code",
      "source": [
        "#arithemetic operations\n",
        "x,y=15,10\n",
        "print(\"x+y=\",x+y)\n",
        "print(\"x-y=\",x-y)\n",
        "print(\"x*y=\",x*y)\n",
        "print(\"x/y=\",x/y)\n",
        "print(\"x+y=\",x+y)\n",
        "print(\"x%y=\",x%y)\n",
        "print(\"x**y=\",x**y)\n"
      ],
      "metadata": {
        "colab": {
          "base_uri": "https://localhost:8080/"
        },
        "id": "mHL8F9YrHWrX",
        "outputId": "b50b4b21-7f7e-4e0b-913c-38363b7dd7f3"
      },
      "execution_count": null,
      "outputs": [
        {
          "output_type": "stream",
          "name": "stdout",
          "text": [
            "x+y= 25\n",
            "x-y= 5\n",
            "x*y= 150\n",
            "x/y= 1.5\n",
            "x+y= 25\n",
            "x%y= 5\n",
            "x**y= 576650390625\n"
          ]
        }
      ]
    },
    {
      "cell_type": "code",
      "source": [
        "#assign operators\n",
        "a=int(input(\"enter the number\"))\n",
        "b=int(input(\"enter the number\"))\n",
        "# a = a + b\n",
        "a += b\n",
        "print(a)\n",
        "a -= b\n",
        "print(a)\n",
        "a *= b\n",
        "print(a)\n",
        "a /= b\n",
        "print(a)"
      ],
      "metadata": {
        "colab": {
          "base_uri": "https://localhost:8080/"
        },
        "id": "0xmleqqWH9lN",
        "outputId": "916bfc13-5ea3-42bd-9fb7-e87e52d94a1d"
      },
      "execution_count": null,
      "outputs": [
        {
          "output_type": "stream",
          "name": "stdout",
          "text": [
            "enter the number4\n",
            "enter the number6\n",
            "10\n",
            "4\n",
            "24\n",
            "4.0\n"
          ]
        }
      ]
    },
    {
      "cell_type": "code",
      "source": [
        "#comparsion operators\n",
        "a=int(input(\"enter the number\"))\n",
        "b=int(input(\"enter the number\"))\n",
        "print(\"c=\",a>b)\n",
        "print(\"c=\",a!=b)\n"
      ],
      "metadata": {
        "colab": {
          "base_uri": "https://localhost:8080/"
        },
        "id": "wIVe8PUDIdCP",
        "outputId": "f129f18c-64e7-493f-817e-2f42899ca9d7"
      },
      "execution_count": null,
      "outputs": [
        {
          "output_type": "stream",
          "name": "stdout",
          "text": [
            "enter the number6\n",
            "enter the number8\n",
            "c= False\n",
            "c= True\n"
          ]
        }
      ]
    },
    {
      "cell_type": "code",
      "source": [
        "#logical operators\n",
        "a=1\n",
        "b=0\n",
        "print(\"a and b is=\",a and b)\n",
        "print(\"a or b is=\",a or b)\n",
        "print(\"not a\", not a )\n",
        "\n"
      ],
      "metadata": {
        "colab": {
          "base_uri": "https://localhost:8080/"
        },
        "id": "pzZBYsT8JBLk",
        "outputId": "f122ecef-49c9-498a-b07f-6e75c32958d0"
      },
      "execution_count": null,
      "outputs": [
        {
          "output_type": "stream",
          "name": "stdout",
          "text": [
            "a and b is= 0\n",
            "a or b is= 1\n",
            "not a False\n"
          ]
        }
      ]
    },
    {
      "cell_type": "code",
      "source": [
        "\n",
        "# bitwise operators\n",
        "a = 10\n",
        "b = 4\n",
        "# AND operation\n",
        "print(\"a & b =\", a & b)\n",
        " \n",
        "# OR operation\n",
        "print(\"a | b =\", a | b)\n",
        " \n",
        "#bitwise NOT operation\n",
        "print(\"~a =\", ~a)\n",
        " \n",
        "# print bitwise XOR operation\n",
        "print(\"a ^ b =\", a ^ b)"
      ],
      "metadata": {
        "colab": {
          "base_uri": "https://localhost:8080/"
        },
        "id": "0OQcMHMqmqdQ",
        "outputId": "469e0e1e-66aa-4299-e01c-af9587beca85"
      },
      "execution_count": null,
      "outputs": [
        {
          "output_type": "stream",
          "name": "stdout",
          "text": [
            "a & b = 0\n",
            "a | b = 14\n",
            "~a = -11\n",
            "a ^ b = 14\n"
          ]
        }
      ]
    },
    {
      "cell_type": "code",
      "source": [
        "#membership operators\n",
        "string=\"welcome to bootcamp\"\n",
        "print(\"to\"in string)\n",
        "print(\"in\"in string)\n",
        "print(\"is\"in string)\n"
      ],
      "metadata": {
        "colab": {
          "base_uri": "https://localhost:8080/"
        },
        "id": "MO4iOnfZJf-S",
        "outputId": "9e3d0ab5-9cda-4019-bf14-745299251a73"
      },
      "execution_count": null,
      "outputs": [
        {
          "output_type": "stream",
          "name": "stdout",
          "text": [
            "True\n",
            "False\n",
            "False\n"
          ]
        }
      ]
    },
    {
      "cell_type": "code",
      "source": [
        "#identity operators\n",
        "a1=int(input(\"enter the number\"))\n",
        "b1=int(input(\"enter the number\"))\n",
        "a2=int(input(\"enter the number\"))\n",
        "b2=int(input(\"enter the number\"))\n",
        "print(a1 is a2)\n",
        "print(b1 is b2)\n",
        "print(a1 is not a2)\n",
        "print(b1 is not b2)"
      ],
      "metadata": {
        "colab": {
          "base_uri": "https://localhost:8080/"
        },
        "id": "KFOsRc4dJ5LI",
        "outputId": "4ba29b32-420b-470b-ab21-552d5ec90de7"
      },
      "execution_count": null,
      "outputs": [
        {
          "output_type": "stream",
          "name": "stdout",
          "text": [
            "enter the number5\n",
            "enter the number8\n",
            "enter the number9\n",
            "enter the number8\n",
            "False\n",
            "True\n",
            "True\n",
            "False\n"
          ]
        }
      ]
    },
    {
      "cell_type": "code",
      "source": [
        "# slicing with the negative index\n",
        "List = [1, 2, 3, 4, 5, 6, 7, 8, 9]\n",
        " \n",
        "print(\"\\nOriginal List:\\n\", List)\n",
        " \n",
        "print(\"\\nSliced Lists: \")\n",
        " \n",
        "# Display sliced list\n",
        "print(List[3:9:2])\n",
        " \n",
        "# Display sliced list\n",
        "print(List[::2])\n",
        " \n",
        "# Display sliced list\n",
        "print(List[::])"
      ],
      "metadata": {
        "colab": {
          "base_uri": "https://localhost:8080/"
        },
        "id": "lI7imV2Mm_VA",
        "outputId": "81fa86db-5d94-4eb5-ad7e-197a2b5914aa"
      },
      "execution_count": null,
      "outputs": [
        {
          "output_type": "stream",
          "name": "stdout",
          "text": [
            "\n",
            "Original List:\n",
            " [1, 2, 3, 4, 5, 6, 7, 8, 9]\n",
            "\n",
            "Sliced Lists: \n",
            "[4, 6, 8]\n",
            "[1, 3, 5, 7, 9]\n",
            "[1, 2, 3, 4, 5, 6, 7, 8, 9]\n"
          ]
        }
      ]
    },
    {
      "cell_type": "code",
      "execution_count": null,
      "metadata": {
        "colab": {
          "base_uri": "https://localhost:8080/"
        },
        "id": "F4UvgwD0Q-CA",
        "outputId": "5a26e6de-ead3-4951-e6bb-8eca979144f4"
      },
      "outputs": [
        {
          "output_type": "stream",
          "name": "stdout",
          "text": [
            "taawkcbe  tiestrcoeea\n",
            "n j dhe\n"
          ]
        }
      ],
      "source": [
        "print('a series of characters desginated as one object known as a string'[::-1][4::3])\n",
        "print('a series of characters desginated as one object known as a string'[3::10][::-1])\n"
      ]
    },
    {
      "cell_type": "code",
      "source": [
        "print(\"------------\")\n",
        "print('welcome to pythin traning program'[3:10][::-1])"
      ],
      "metadata": {
        "colab": {
          "base_uri": "https://localhost:8080/"
        },
        "id": "Md1Rf33RTScm",
        "outputId": "2a64d08b-5651-4d1f-a9d9-47fe80a97179"
      },
      "execution_count": null,
      "outputs": [
        {
          "output_type": "stream",
          "name": "stdout",
          "text": [
            "------------\n",
            "ot emoc\n"
          ]
        }
      ]
    },
    {
      "cell_type": "code",
      "source": [
        "string='was it a car or a cat i saw'[::-1]\n",
        "print(string)\n",
        "print(string.upper())"
      ],
      "metadata": {
        "colab": {
          "base_uri": "https://localhost:8080/"
        },
        "id": "TlbvCDELuViX",
        "outputId": "9af1cacf-ca4d-4d4c-a934-03d74742ff63"
      },
      "execution_count": null,
      "outputs": [
        {
          "output_type": "stream",
          "name": "stdout",
          "text": [
            "was i tac a ro rac a ti saw\n",
            "WAS I TAC A RO RAC A TI SAW\n"
          ]
        }
      ]
    },
    {
      "cell_type": "code",
      "source": [
        "X=int(input())\n",
        "Y=2*X\n",
        "print('Z'*X+'O'*Y)"
      ],
      "metadata": {
        "colab": {
          "base_uri": "https://localhost:8080/"
        },
        "id": "VwmLZg4-kTWD",
        "outputId": "05ef2f1d-09ed-40d7-ea83-9a6a355ea428"
      },
      "execution_count": null,
      "outputs": [
        {
          "output_type": "stream",
          "name": "stdout",
          "text": [
            "2\n",
            "ZZOOOO\n"
          ]
        }
      ]
    }
  ]
}