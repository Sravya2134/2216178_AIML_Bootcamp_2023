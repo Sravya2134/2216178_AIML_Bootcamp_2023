{
  "nbformat": 4,
  "nbformat_minor": 0,
  "metadata": {
    "colab": {
      "provenance": [],
      "authorship_tag": "ABX9TyMT8B6IwiGVjq0xqWPSSZK4",
      "include_colab_link": true
    },
    "kernelspec": {
      "name": "python3",
      "display_name": "Python 3"
    },
    "language_info": {
      "name": "python"
    }
  },
  "cells": [
    {
      "cell_type": "markdown",
      "metadata": {
        "id": "view-in-github",
        "colab_type": "text"
      },
      "source": [
        "<a href=\"https://colab.research.google.com/github/Sravya2134/2216178_AIML_Bootcamp_2023/blob/main/AI%26ML_Bootcamp_day_2.ipynb\" target=\"_parent\"><img src=\"https://colab.research.google.com/assets/colab-badge.svg\" alt=\"Open In Colab\"/></a>"
      ]
    },
    {
      "cell_type": "code",
      "source": [
        "#operators\n",
        "#arithemetic opetators\n",
        "a=10\n",
        "b=5\n",
        "print(a+b)\n",
        "print(a-b)\n",
        "print(a*b)\n",
        "print(a/b)\n",
        "print(a%b)\n"
      ],
      "metadata": {
        "colab": {
          "base_uri": "https://localhost:8080/"
        },
        "id": "lmm6b4iusk5i",
        "outputId": "c0807324-b32a-453e-8026-710364eee5b6"
      },
      "execution_count": 1,
      "outputs": [
        {
          "output_type": "stream",
          "name": "stdout",
          "text": [
            "15\n",
            "5\n",
            "50\n",
            "2.0\n",
            "0\n"
          ]
        }
      ]
    },
    {
      "cell_type": "code",
      "source": [
        "a=13\n",
        "b=14\n",
        "print(a &b)\n",
        "print(a|b)\n",
        "print(a^b)\n",
        "print(a>>2)\n",
        "print(b<<2)"
      ],
      "metadata": {
        "colab": {
          "base_uri": "https://localhost:8080/"
        },
        "id": "M0b5tRGktC1E",
        "outputId": "0fcac13c-146f-4394-929d-3bc9f3fab249"
      },
      "execution_count": 2,
      "outputs": [
        {
          "output_type": "stream",
          "name": "stdout",
          "text": [
            "12\n",
            "15\n",
            "3\n",
            "3\n",
            "56\n"
          ]
        }
      ]
    },
    {
      "cell_type": "code",
      "source": [
        "#membership operators\n",
        "string=\"welcome to bootcamp\"\n",
        "print(\"to\"in string)\n",
        "print(\"in\"in string)\n",
        "print(\"is\"in string)\n"
      ],
      "metadata": {
        "colab": {
          "base_uri": "https://localhost:8080/"
        },
        "id": "oGVGHvtJ4XE2",
        "outputId": "b587d254-9212-40e5-fc70-ef76cf71af3e"
      },
      "execution_count": 9,
      "outputs": [
        {
          "output_type": "stream",
          "name": "stdout",
          "text": [
            "True\n",
            "False\n",
            "False\n"
          ]
        }
      ]
    },
    {
      "cell_type": "code",
      "source": [
        "#identity operators\n",
        "a1=int(input(\"enter the number\"))\n",
        "b1=int(input(\"enter the number\"))\n",
        "a2=int(input(\"enter the number\"))\n",
        "b2=int(input(\"enter the number\"))\n",
        "print(a1 is a2)\n",
        "print(b1 is b2)\n",
        "print(a1 is not a2)\n",
        "print(b1 is not b2)"
      ],
      "metadata": {
        "colab": {
          "base_uri": "https://localhost:8080/"
        },
        "id": "wPCAVJWC4ctN",
        "outputId": "0e79cca7-e6b8-48c1-f154-5c333059d3a2"
      },
      "execution_count": 11,
      "outputs": [
        {
          "output_type": "stream",
          "name": "stdout",
          "text": [
            "enter the number34\n",
            "enter the number56\n",
            "enter the number78\n",
            "enter the number89\n",
            "False\n",
            "False\n",
            "True\n",
            "True\n"
          ]
        }
      ]
    },
    {
      "cell_type": "code",
      "source": [
        "#comparsion operators\n",
        "a=int(input(\"enter the number\"))\n",
        "b=int(input(\"enter the number\"))\n",
        "print(\"c=\",a>b)\n",
        "print(\"c=\",a!=b)\n"
      ],
      "metadata": {
        "colab": {
          "base_uri": "https://localhost:8080/"
        },
        "id": "NOHqYb3DtpDO",
        "outputId": "abdf5c00-dd6f-46dc-de18-d6ad0450bced"
      },
      "execution_count": 3,
      "outputs": [
        {
          "output_type": "stream",
          "name": "stdout",
          "text": [
            "enter the number2\n",
            "enter the number6\n",
            "c= False\n",
            "c= True\n"
          ]
        }
      ]
    },
    {
      "cell_type": "code",
      "source": [
        "\n",
        "#slicing\n",
        "print(str[0:7:2])\n",
        "#string modules\n",
        "string=\"  going to trip  \"\n",
        "print(string.upper())\n",
        "print(string.lower())\n",
        "print(string.swapcase())\n",
        "print(string.lstrip())\n",
        "\n",
        "\n",
        "\n"
      ],
      "metadata": {
        "colab": {
          "base_uri": "https://localhost:8080/"
        },
        "id": "en8dqEr81Ckb",
        "outputId": "abff2efd-0cfd-4c6c-8aeb-bb672388a21f"
      },
      "execution_count": 6,
      "outputs": [
        {
          "output_type": "stream",
          "name": "stdout",
          "text": [
            "gase\n",
            "  GOING TO TRIP  \n",
            "  going to trip  \n",
            "  GOING TO TRIP  \n",
            "going to trip  \n"
          ]
        }
      ]
    },
    {
      "cell_type": "code",
      "source": [
        "#string formats\n",
        "name=\"shiva\"\n",
        "language=\"pyhton\"\n",
        "year =2023\n",
        "print(name,\"is teaching\",language,\"programming in\",year)\n"
      ],
      "metadata": {
        "colab": {
          "base_uri": "https://localhost:8080/"
        },
        "id": "tBun6j1X2ZSj",
        "outputId": "bceac6dc-f8bc-48be-e994-cc3f044d5543"
      },
      "execution_count": 7,
      "outputs": [
        {
          "output_type": "stream",
          "name": "stdout",
          "text": [
            "shiva is teaching pyhton programming in 2023\n"
          ]
        }
      ]
    },
    {
      "cell_type": "code",
      "source": [
        "#lists\n",
        "my_list=[1,2,3,4]\n",
        "my_list1=[1,\"hello\",\"3.0\"]\n",
        "my_list2=[\"apple\",\"banana\",\"cherry\"]\n",
        "#indexing\n",
        "print(my_list[2])\n",
        "print(my_list[-1])\n",
        "#slicing\n",
        "print(my_list[:3])\n",
        "#nested\n",
        "N_list=[\"dragonfruit\",my_list,my_list[1]]\n",
        "print(N_list[0][0:6])\n"
      ],
      "metadata": {
        "colab": {
          "base_uri": "https://localhost:8080/"
        },
        "id": "hykkRArt3hY3",
        "outputId": "db2bbc8a-34e4-41a7-e5bf-d756e132efc0"
      },
      "execution_count": 8,
      "outputs": [
        {
          "output_type": "stream",
          "name": "stdout",
          "text": [
            "3\n",
            "4\n",
            "[1, 2, 3]\n",
            "dragon\n"
          ]
        }
      ]
    }
  ]
}